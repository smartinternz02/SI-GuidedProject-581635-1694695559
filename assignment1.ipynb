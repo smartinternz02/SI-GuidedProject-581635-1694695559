{
  "nbformat": 4,
  "nbformat_minor": 0,
  "metadata": {
    "colab": {
      "provenance": []
    },
    "kernelspec": {
      "name": "python3",
      "display_name": "Python 3"
    },
    "language_info": {
      "name": "python"
    }
  },
  "cells": [
    {
      "cell_type": "code",
      "execution_count": 1,
      "metadata": {
        "id": "bCeY7Ho9A3aG"
      },
      "outputs": [],
      "source": [
        "import pandas as pd\n",
        "import numpy as np"
      ]
    },
    {
      "cell_type": "code",
      "source": [
        "data = {\n",
        "    'Feature1':np.random.rand(10),\n",
        "    'Feature2':np.random.randint(0,100,10),\n",
        "    'Feature3':np.random.choice(['A','B','C'],10),\n",
        "    'Feature4':np.random.randn(10),\n",
        "    'Feature5':np.random.uniform(1,10,10)\n",
        "}"
      ],
      "metadata": {
        "id": "0h9AyeeSBEgs"
      },
      "execution_count": 3,
      "outputs": []
    },
    {
      "cell_type": "code",
      "source": [
        "df = pd.DataFrame(data)"
      ],
      "metadata": {
        "id": "3S8DtZjnB0VG"
      },
      "execution_count": 4,
      "outputs": []
    },
    {
      "cell_type": "code",
      "source": [
        "print(\"Info of df : \")\n",
        "print(df.info())"
      ],
      "metadata": {
        "colab": {
          "base_uri": "https://localhost:8080/"
        },
        "id": "ISPW6gbfB5WF",
        "outputId": "0e7305e0-be98-4aae-d15a-2c030dd5045a"
      },
      "execution_count": 5,
      "outputs": [
        {
          "output_type": "stream",
          "name": "stdout",
          "text": [
            "Info of df : \n",
            "<class 'pandas.core.frame.DataFrame'>\n",
            "RangeIndex: 10 entries, 0 to 9\n",
            "Data columns (total 5 columns):\n",
            " #   Column    Non-Null Count  Dtype  \n",
            "---  ------    --------------  -----  \n",
            " 0   Feature1  10 non-null     float64\n",
            " 1   Feature2  10 non-null     int64  \n",
            " 2   Feature3  10 non-null     object \n",
            " 3   Feature4  10 non-null     float64\n",
            " 4   Feature5  10 non-null     float64\n",
            "dtypes: float64(3), int64(1), object(1)\n",
            "memory usage: 528.0+ bytes\n",
            "None\n"
          ]
        }
      ]
    },
    {
      "cell_type": "code",
      "source": [
        "print(\"\\n Descriptive statistics of 'df':\")\n",
        "print(df.describe())"
      ],
      "metadata": {
        "colab": {
          "base_uri": "https://localhost:8080/"
        },
        "id": "TvdHimoZCEz7",
        "outputId": "937c371f-12c8-40c9-87af-5aa090b57825"
      },
      "execution_count": 6,
      "outputs": [
        {
          "output_type": "stream",
          "name": "stdout",
          "text": [
            "\n",
            " Descriptive statistics of 'df':\n",
            "        Feature1   Feature2   Feature4   Feature5\n",
            "count  10.000000  10.000000  10.000000  10.000000\n",
            "mean    0.618450  55.800000  -0.474343   4.676763\n",
            "std     0.318011  28.642626   0.936437   2.450775\n",
            "min     0.115071   9.000000  -1.555767   1.432020\n",
            "25%     0.349943  41.750000  -1.183516   2.919206\n",
            "50%     0.671447  62.000000  -0.812028   4.039623\n",
            "75%     0.890236  73.750000   0.177170   6.953633\n",
            "max     0.982676  94.000000   0.964454   8.145603\n"
          ]
        }
      ]
    },
    {
      "cell_type": "code",
      "source": [
        "observation_4 = df.loc[4]\n",
        "print(\"\\n 4th index observation: \")\n",
        "print(observation_4)"
      ],
      "metadata": {
        "colab": {
          "base_uri": "https://localhost:8080/"
        },
        "id": "9_hnEuvNCUDe",
        "outputId": "c1ef8ae0-777e-47e1-c5b1-b3a23b0e26c1"
      },
      "execution_count": 8,
      "outputs": [
        {
          "output_type": "stream",
          "name": "stdout",
          "text": [
            "\n",
            " 4th index observation: \n",
            "Feature1    0.631387\n",
            "Feature2          68\n",
            "Feature3           A\n",
            "Feature4   -0.099313\n",
            "Feature5     3.65954\n",
            "Name: 4, dtype: object\n"
          ]
        }
      ]
    },
    {
      "cell_type": "code",
      "source": [
        "print(\"\\n Null values in df:\")\n",
        "df.isnull().any\n",
        "df.isnull().sum"
      ],
      "metadata": {
        "colab": {
          "base_uri": "https://localhost:8080/"
        },
        "id": "lkZsqlk7CpkV",
        "outputId": "77200d72-3eee-46e6-a39c-41b58f9bc180"
      },
      "execution_count": 9,
      "outputs": [
        {
          "output_type": "stream",
          "name": "stdout",
          "text": [
            "\n",
            " Null values in df:\n"
          ]
        },
        {
          "output_type": "execute_result",
          "data": {
            "text/plain": [
              "<bound method NDFrame._add_numeric_operations.<locals>.sum of    Feature1  Feature2  Feature3  Feature4  Feature5\n",
              "0     False     False     False     False     False\n",
              "1     False     False     False     False     False\n",
              "2     False     False     False     False     False\n",
              "3     False     False     False     False     False\n",
              "4     False     False     False     False     False\n",
              "5     False     False     False     False     False\n",
              "6     False     False     False     False     False\n",
              "7     False     False     False     False     False\n",
              "8     False     False     False     False     False\n",
              "9     False     False     False     False     False>"
            ]
          },
          "metadata": {},
          "execution_count": 9
        }
      ]
    }
  ]
}